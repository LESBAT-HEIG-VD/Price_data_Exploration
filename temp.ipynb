{
 "cells": [
  {
   "metadata": {
    "ExecuteTime": {
     "end_time": "2024-06-24T15:35:05.789098Z",
     "start_time": "2024-06-24T15:34:48.506397Z"
    }
   },
   "cell_type": "code",
   "source": [
    "import os\n",
    "import netCDF4 as nc\n",
    "import numpy as np\n",
    "import pandas as pd\n",
    "\n",
    "def calculate_weighted_avg_temperature(file_path):\n",
    "    # Lire le fichier NetCDF\n",
    "    dataset = nc.Dataset(file_path, mode='r')\n",
    "    \n",
    "    # Extraire les variables d'intérêt\n",
    "    temperature = dataset.variables['t2m'][:]  # Remplacez par le nom exact de votre variable\n",
    "    latitudes = dataset.variables['latitude'][:]  # Remplacez par le nom exact de votre variable\n",
    "    longitudes = dataset.variables['longitude'][:]  # Remplacez par le nom exact de votre variable\n",
    "    time_var = dataset.variables['time']\n",
    "    \n",
    "    # Convertir les temps en dates lisibles\n",
    "    time_units = time_var.units\n",
    "    time_calendar = time_var.calendar if 'calendar' in time_var.ncattrs() else 'standard'\n",
    "    time_values = time_var[:]\n",
    "    dates = nc.num2date(time_values, units=time_units, calendar=time_calendar)\n",
    "    \n",
    "    # Calculer les températures moyennes pondérées par heure\n",
    "    average_temperatures = []\n",
    "    \n",
    "    for t, date in enumerate(dates):\n",
    "        temp_slice = temperature[t, :, :]\n",
    "        temp_flat = temp_slice.flatten()\n",
    "        \n",
    "        # Calculer la moyenne pondérée pour cette tranche temporelle\n",
    "        avg_temp = np.average(temp_flat)\n",
    "        average_temperatures.append([date, avg_temp])\n",
    "    \n",
    "    # Créer le DataFrame final avec les moyennes pondérées par heure\n",
    "    df_weighted_avg_temp = pd.DataFrame(average_temperatures, columns=['date', 'average_temperature'])\n",
    "    \n",
    "    \n",
    "    dataset.close()\n",
    "    \n",
    "    return df_weighted_avg_temp\n",
    "\n",
    "# Chemin du répertoire contenant les fichiers NetCDF\n",
    "directory_path = 'data/temperature'\n",
    "\n",
    "# Lister tous les fichiers dans le répertoire et filtrer ceux avec l'extension .nc\n",
    "file_paths = [os.path.join(directory_path, f) for f in os.listdir(directory_path) if f.endswith('.nc')]\n",
    "\n",
    "# Appliquer la fonction à chaque fichier et concaténer les résultats\n",
    "all_data = []\n",
    "\n",
    "for path in file_paths:\n",
    "    df = calculate_weighted_avg_temperature(path)\n",
    "    all_data.append(df)\n",
    "\n",
    "# Concaténer tous les DataFrames en un seul\n",
    "final_df = pd.concat(all_data, ignore_index=True)\n",
    "\n",
    "# Afficher les premières lignes du DataFrame final\n",
    "final_df.head()\n"
   ],
   "id": "eaab1fd2bd25bb12",
   "outputs": [
    {
     "data": {
      "text/plain": [
       "                  date  average_temperature\n",
       "0  2020-01-01 00:00:00           278.019598\n",
       "1  2020-01-01 01:00:00           277.955716\n",
       "2  2020-01-01 02:00:00           277.774103\n",
       "3  2020-01-01 03:00:00           277.714403\n",
       "4  2020-01-01 04:00:00           277.680769"
      ],
      "text/html": [
       "<div>\n",
       "<style scoped>\n",
       "    .dataframe tbody tr th:only-of-type {\n",
       "        vertical-align: middle;\n",
       "    }\n",
       "\n",
       "    .dataframe tbody tr th {\n",
       "        vertical-align: top;\n",
       "    }\n",
       "\n",
       "    .dataframe thead th {\n",
       "        text-align: right;\n",
       "    }\n",
       "</style>\n",
       "<table border=\"1\" class=\"dataframe\">\n",
       "  <thead>\n",
       "    <tr style=\"text-align: right;\">\n",
       "      <th></th>\n",
       "      <th>date</th>\n",
       "      <th>average_temperature</th>\n",
       "    </tr>\n",
       "  </thead>\n",
       "  <tbody>\n",
       "    <tr>\n",
       "      <th>0</th>\n",
       "      <td>2020-01-01 00:00:00</td>\n",
       "      <td>278.019598</td>\n",
       "    </tr>\n",
       "    <tr>\n",
       "      <th>1</th>\n",
       "      <td>2020-01-01 01:00:00</td>\n",
       "      <td>277.955716</td>\n",
       "    </tr>\n",
       "    <tr>\n",
       "      <th>2</th>\n",
       "      <td>2020-01-01 02:00:00</td>\n",
       "      <td>277.774103</td>\n",
       "    </tr>\n",
       "    <tr>\n",
       "      <th>3</th>\n",
       "      <td>2020-01-01 03:00:00</td>\n",
       "      <td>277.714403</td>\n",
       "    </tr>\n",
       "    <tr>\n",
       "      <th>4</th>\n",
       "      <td>2020-01-01 04:00:00</td>\n",
       "      <td>277.680769</td>\n",
       "    </tr>\n",
       "  </tbody>\n",
       "</table>\n",
       "</div>"
      ]
     },
     "execution_count": 7,
     "metadata": {},
     "output_type": "execute_result"
    }
   ],
   "execution_count": 7
  },
  {
   "metadata": {
    "ExecuteTime": {
     "end_time": "2024-06-24T15:35:20.193994Z",
     "start_time": "2024-06-24T15:35:20.178585Z"
    }
   },
   "cell_type": "code",
   "source": "final_df.set_index(['date'], inplace=True)",
   "id": "1581cbc9fe0427c3",
   "outputs": [],
   "execution_count": 9
  },
  {
   "metadata": {
    "ExecuteTime": {
     "end_time": "2024-06-24T15:46:05.841343Z",
     "start_time": "2024-06-24T15:46:05.378082Z"
    }
   },
   "cell_type": "code",
   "source": "final_df.to_csv('data/temperature/temp.csv')",
   "id": "7d3f3ac4fde28383",
   "outputs": [],
   "execution_count": 13
  },
  {
   "metadata": {
    "ExecuteTime": {
     "end_time": "2024-06-25T08:49:57.666107Z",
     "start_time": "2024-06-25T08:49:57.634444Z"
    }
   },
   "cell_type": "code",
   "source": [
    "actualload2020=pd.read_csv('data/Actual Load/Total Load - Day Ahead _ Actual_202001010000-202101010000.csv')\n",
    "path='data/Actual Load'\n",
    "Afile_paths=[os.path.join(path, f) for f in os.listdir(path) if f.endswith('.csv')]\n",
    "Afile_paths"
   ],
   "id": "18b91ad030af6302",
   "outputs": [
    {
     "data": {
      "text/plain": [
       "['data/Actual Load\\\\Total Load - Day Ahead _ Actual_202001010000-202101010000.csv',\n",
       " 'data/Actual Load\\\\Total Load - Day Ahead _ Actual_202101010000-202201010000.csv',\n",
       " 'data/Actual Load\\\\Total Load - Day Ahead _ Actual_202201010000-202301010000.csv',\n",
       " 'data/Actual Load\\\\Total Load - Day Ahead _ Actual_202301010000-202401010000.csv']"
      ]
     },
     "execution_count": 41,
     "metadata": {},
     "output_type": "execute_result"
    }
   ],
   "execution_count": 41
  },
  {
   "metadata": {
    "ExecuteTime": {
     "end_time": "2024-06-25T08:47:30.359391Z",
     "start_time": "2024-06-25T08:47:30.341713Z"
    }
   },
   "cell_type": "code",
   "source": "actualload2020.columns",
   "id": "a307daa67ca46e23",
   "outputs": [
    {
     "data": {
      "text/plain": [
       "Index(['Time (CET/CEST)', 'Day-ahead Total Load Forecast [MW] - BZN|ES',\n",
       "       'Actual Total Load [MW] - BZN|ES'],\n",
       "      dtype='object')"
      ]
     },
     "execution_count": 36,
     "metadata": {},
     "output_type": "execute_result"
    }
   ],
   "execution_count": 36
  },
  {
   "metadata": {
    "ExecuteTime": {
     "end_time": "2024-06-25T09:29:23.042058Z",
     "start_time": "2024-06-25T09:29:23.025846Z"
    }
   },
   "cell_type": "code",
   "source": [
    "def extract_first_part(date_range):\n",
    "    return date_range.split(' - ')[0]"
   ],
   "id": "fcfdae401d33db15",
   "outputs": [],
   "execution_count": 69
  },
  {
   "metadata": {
    "ExecuteTime": {
     "end_time": "2024-06-25T09:29:23.661133Z",
     "start_time": "2024-06-25T09:29:23.641450Z"
    }
   },
   "cell_type": "code",
   "source": [
    "def genere_actual_load(file_pa):\n",
    "    df = pd.read_csv(file_pa)\n",
    "    df.drop(columns=['Day-ahead Total Load Forecast [MW] - BZN|ES'], inplace=True)\n",
    "    df.rename(columns={'Actual Total Load [MW] - BZN|ES': 'Actual Total Load'}, inplace=True)\n",
    "    df['date']=df['Time (CET/CEST)'].apply(extract_first_part)\n",
    "    df.drop(columns=['Time (CET/CEST)'], inplace=True)\n",
    "    df.set_index(['date'], inplace=True)\n",
    "    df.index=pd.to_datetime(df.index,dayfirst=True)\n",
    "    df=df.resample('h').sum()\n",
    "    df=df[~df.index.duplicated()]\n",
    "    \n",
    "    return df\n",
    "    \n",
    "    "
   ],
   "id": "b8df2482e99ca2f2",
   "outputs": [],
   "execution_count": 70
  },
  {
   "metadata": {
    "ExecuteTime": {
     "end_time": "2024-06-25T09:29:24.575051Z",
     "start_time": "2024-06-25T09:29:24.433912Z"
    }
   },
   "cell_type": "code",
   "source": "genere_actual_load('data/Actual Load/Total Load - Day Ahead _ Actual_202301010000-202401010000.csv')",
   "id": "95a948738874397b",
   "outputs": [
    {
     "data": {
      "text/plain": [
       "                     Actual Total Load\n",
       "date                                  \n",
       "2023-01-01 00:00:00            79988.0\n",
       "2023-01-01 01:00:00            77004.0\n",
       "2023-01-01 02:00:00            72416.0\n",
       "2023-01-01 03:00:00            68360.0\n",
       "2023-01-01 04:00:00            66124.0\n",
       "...                                ...\n",
       "2023-12-31 19:00:00           116440.0\n",
       "2023-12-31 20:00:00           115320.0\n",
       "2023-12-31 21:00:00           111396.0\n",
       "2023-12-31 22:00:00           100548.0\n",
       "2023-12-31 23:00:00            93352.0\n",
       "\n",
       "[8760 rows x 1 columns]"
      ],
      "text/html": [
       "<div>\n",
       "<style scoped>\n",
       "    .dataframe tbody tr th:only-of-type {\n",
       "        vertical-align: middle;\n",
       "    }\n",
       "\n",
       "    .dataframe tbody tr th {\n",
       "        vertical-align: top;\n",
       "    }\n",
       "\n",
       "    .dataframe thead th {\n",
       "        text-align: right;\n",
       "    }\n",
       "</style>\n",
       "<table border=\"1\" class=\"dataframe\">\n",
       "  <thead>\n",
       "    <tr style=\"text-align: right;\">\n",
       "      <th></th>\n",
       "      <th>Actual Total Load</th>\n",
       "    </tr>\n",
       "    <tr>\n",
       "      <th>date</th>\n",
       "      <th></th>\n",
       "    </tr>\n",
       "  </thead>\n",
       "  <tbody>\n",
       "    <tr>\n",
       "      <th>2023-01-01 00:00:00</th>\n",
       "      <td>79988.0</td>\n",
       "    </tr>\n",
       "    <tr>\n",
       "      <th>2023-01-01 01:00:00</th>\n",
       "      <td>77004.0</td>\n",
       "    </tr>\n",
       "    <tr>\n",
       "      <th>2023-01-01 02:00:00</th>\n",
       "      <td>72416.0</td>\n",
       "    </tr>\n",
       "    <tr>\n",
       "      <th>2023-01-01 03:00:00</th>\n",
       "      <td>68360.0</td>\n",
       "    </tr>\n",
       "    <tr>\n",
       "      <th>2023-01-01 04:00:00</th>\n",
       "      <td>66124.0</td>\n",
       "    </tr>\n",
       "    <tr>\n",
       "      <th>...</th>\n",
       "      <td>...</td>\n",
       "    </tr>\n",
       "    <tr>\n",
       "      <th>2023-12-31 19:00:00</th>\n",
       "      <td>116440.0</td>\n",
       "    </tr>\n",
       "    <tr>\n",
       "      <th>2023-12-31 20:00:00</th>\n",
       "      <td>115320.0</td>\n",
       "    </tr>\n",
       "    <tr>\n",
       "      <th>2023-12-31 21:00:00</th>\n",
       "      <td>111396.0</td>\n",
       "    </tr>\n",
       "    <tr>\n",
       "      <th>2023-12-31 22:00:00</th>\n",
       "      <td>100548.0</td>\n",
       "    </tr>\n",
       "    <tr>\n",
       "      <th>2023-12-31 23:00:00</th>\n",
       "      <td>93352.0</td>\n",
       "    </tr>\n",
       "  </tbody>\n",
       "</table>\n",
       "<p>8760 rows × 1 columns</p>\n",
       "</div>"
      ]
     },
     "execution_count": 71,
     "metadata": {},
     "output_type": "execute_result"
    }
   ],
   "execution_count": 71
  },
  {
   "metadata": {
    "ExecuteTime": {
     "end_time": "2024-06-25T09:29:26.114963Z",
     "start_time": "2024-06-25T09:29:26.083686Z"
    }
   },
   "cell_type": "code",
   "source": [
    "path='data/Actual Load'\n",
    "Afile_paths=[os.path.join(path, f) for f in os.listdir(path) if f.endswith('.csv')]\n",
    "Afile_paths"
   ],
   "id": "9c4bf421ec9dde79",
   "outputs": [
    {
     "data": {
      "text/plain": [
       "['data/Actual Load\\\\Total Load - Day Ahead _ Actual_202001010000-202101010000.csv',\n",
       " 'data/Actual Load\\\\Total Load - Day Ahead _ Actual_202101010000-202201010000.csv',\n",
       " 'data/Actual Load\\\\Total Load - Day Ahead _ Actual_202201010000-202301010000.csv',\n",
       " 'data/Actual Load\\\\Total Load - Day Ahead _ Actual_202301010000-202401010000.csv']"
      ]
     },
     "execution_count": 72,
     "metadata": {},
     "output_type": "execute_result"
    }
   ],
   "execution_count": 72
  },
  {
   "metadata": {
    "ExecuteTime": {
     "end_time": "2024-06-25T09:31:49.780625Z",
     "start_time": "2024-06-25T09:31:49.160864Z"
    }
   },
   "cell_type": "code",
   "source": [
    "ActL=[]\n",
    "for f in Afile_paths:\n",
    "    df=genere_actual_load(f)\n",
    "    ActL.append(df)\n",
    "\n",
    "actualload=pd.concat(ActL)"
   ],
   "id": "50b7b6b0e3e995fc",
   "outputs": [],
   "execution_count": 76
  },
  {
   "metadata": {
    "ExecuteTime": {
     "end_time": "2024-06-25T09:33:45.026395Z",
     "start_time": "2024-06-25T09:33:44.676748Z"
    }
   },
   "cell_type": "code",
   "source": "actualload.to_csv('data/Actual Load/Actual_Load.csv')",
   "id": "1d3ec7dcb61928af",
   "outputs": [],
   "execution_count": 78
  },
  {
   "metadata": {},
   "cell_type": "code",
   "outputs": [],
   "execution_count": null,
   "source": "",
   "id": "57185a7894de7b48"
  }
 ],
 "metadata": {
  "kernelspec": {
   "display_name": "Python 3",
   "language": "python",
   "name": "python3"
  },
  "language_info": {
   "codemirror_mode": {
    "name": "ipython",
    "version": 2
   },
   "file_extension": ".py",
   "mimetype": "text/x-python",
   "name": "python",
   "nbconvert_exporter": "python",
   "pygments_lexer": "ipython2",
   "version": "2.7.6"
  }
 },
 "nbformat": 4,
 "nbformat_minor": 5
}
